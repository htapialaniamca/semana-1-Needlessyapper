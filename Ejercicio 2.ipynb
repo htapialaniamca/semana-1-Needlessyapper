{
 "cells": [
  {
   "cell_type": "code",
   "execution_count": 3,
   "metadata": {},
   "outputs": [],
   "source": [
    "#Importar la libreria\n",
    "import android\n",
    "droide = android.Android()"
   ]
  },
  {
   "cell_type": "code",
   "execution_count": 21,
   "metadata": {},
   "outputs": [],
   "source": [
    "droide.ttsSpeak(\"Cuenta regresiva\")\n",
    "droide.vibrate(2000)\n",
    "for var in range (1,11):\n",
    "    var = 11 - var    \n",
    "    droide.ttsSpeak(str(var))\n",
    "    if(var==1):\n",
    "        droide.ttsSpeak(\"Mensaje enviado\")\n",
    "        droide.vibrate(5000)\n",
    "        droide.notify(\"Bomba\",\"Esta es una notificación de aviso instantaneo\")    \n"
   ]
  },
  {
   "cell_type": "code",
   "execution_count": 51,
   "metadata": {},
   "outputs": [
    {
     "name": "stdout",
     "output_type": "stream",
     "text": [
      "[0, 1, 2, 3, 4, 5, 6, 7, 8, 9, 10, 11, 12, 13, 14, 15, 16, 17, 18, 19, 20, 21, 22, 23, 24, 25, 26, 27, 28, 29, 30, 31, 32, 33, 34, 35, 36, 37, 38, 39, 40, 41, 42, 43, 44, 45, 46, 47, 48, 49, 50, 51, 52, 53, 54, 55, 56, 57, 58, 59, 60, 61, 62, 63, 64, 65, 66, 67, 68, 69, 70, 71, 72, 73, 74, 75, 76, 77, 78, 79, 80, 81, 82, 83, 84, 85, 86, 87, 88, 89, 90, 91, 92, 93, 94, 95, 96, 97, 98, 99]\n"
     ]
    }
   ],
   "source": [
    "#Crear ventanas de opcion multiple\n",
    "droide.dialogCreateAlert(\"Observador de Numeros\",\"Quieres ver los numeros ?\")\n",
    "droide.dialogSetPositiveButtonText(\"Si muestramelos !\")\n",
    "droide.dialogSetNegativeButtonText(\"No que pregunta\")\n",
    "#Muestra los dialogos\n",
    "droide.dialogShow()\n",
    "#obtiene el valor del boton seleccionado\n",
    "droide.dialogGetResponse()\n",
    "\n",
    "#obtener el valor\n",
    "checa=droide.dialogGetResponse().result\n",
    "if checa['which']=='positive':\n",
    "    print range(100)\n",
    "else:\n",
    "    print \"Para la otra\""
   ]
  },
  {
   "cell_type": "code",
   "execution_count": 50,
   "metadata": {},
   "outputs": [
    {
     "data": {
      "text/plain": [
       "u'http://github.com/kuri65536/sl4a/releases/download/6.1.1/sl4a-r6.1.1-arm-debug.apk'"
      ]
     },
     "execution_count": 50,
     "metadata": {},
     "output_type": "execute_result"
    }
   ],
   "source": [
    "#Obtener informacion\n",
    "#https://github.com/kuri65536/sl4a/blob/master/docs/ApiReference.md\n",
    "droide.getClipboard()\n",
    "droide.getClipboard().result"
   ]
  },
  {
   "cell_type": "code",
   "execution_count": 80,
   "metadata": {},
   "outputs": [
    {
     "data": {
      "text/plain": [
       "{u'gps': None,\n",
       " u'network': {u'accuracy': 23.323999404907227,\n",
       "  u'altitude': 1355.0999755859375,\n",
       "  u'bearing': 0,\n",
       "  u'latitude': 19.5197097,\n",
       "  u'longitude': -96.9155685,\n",
       "  u'provider': u'network',\n",
       "  u'speed': 0,\n",
       "  u'time': 1520721326522L},\n",
       " u'passive': {u'accuracy': 23.323999404907227,\n",
       "  u'altitude': 1355.0999755859375,\n",
       "  u'bearing': 0,\n",
       "  u'latitude': 19.5197097,\n",
       "  u'longitude': -96.9155685,\n",
       "  u'provider': u'network',\n",
       "  u'speed': 0,\n",
       "  u'time': 1520721326522L}}"
      ]
     },
     "execution_count": 80,
     "metadata": {},
     "output_type": "execute_result"
    }
   ],
   "source": [
    "#obtener la ultima localización\n",
    "droide.getLastKnownLocation().result"
   ]
  },
  {
   "cell_type": "code",
   "execution_count": 149,
   "metadata": {},
   "outputs": [
    {
     "name": "stdout",
     "output_type": "stream",
     "text": [
      "91060\n"
     ]
    }
   ],
   "source": [
    "#Preguntar que primero busque la localizacion del gps y despues de la red\n",
    "droide.startLocating()\n",
    "loc = droide.getLastKnownLocation().result\n",
    "if loc[\"gps\"] is not None:\n",
    "    loc = loc[\"gps\"]\n",
    "else:\n",
    "    loc = loc[\"network\"]\n",
    "#print loc\n",
    "lat = loc[\"latitude\"]\n",
    "lon = loc[\"longitude\"]\n",
    "tim = loc[\"time\"]\n",
    "#lon = loc[\"longitud\"]\n",
    "#obtener la direcccioón exacta\n",
    "direccion = droide.geocode(lat,lon)\n",
    "#como se encuentra en un arrey debemos de selecionar la posicion y despues lo que vamos a buscar\n",
    "cp = direccion.result[0]['postal_code']\n",
    "pais = direccion.result[0]['country_code']\n",
    "direc = direccion.result[0]['thoroughfare']\n",
    "estado = direccion.result[0]['admin_area']\n",
    "localidad = direccion.result[0]['locality']\n",
    "#time = direccion.result[0]['time']\n",
    "print cp"
   ]
  },
  {
   "cell_type": "code",
   "execution_count": 145,
   "metadata": {},
   "outputs": [
    {
     "data": {
      "text/plain": [
       "Result(id=418, result=[{u'thoroughfare': u'Enrique C R\\xe9bsamen', u'locality': u'Xalapa Enr\\xedquez', u'sub_admin_area': u'Xalapa', u'admin_area': u'Veracruz', u'feature_name': u'62', u'country_code': u'MX', u'country_name': u'Mexico', u'postal_code': u'91060'}], error=None)"
      ]
     },
     "execution_count": 145,
     "metadata": {},
     "output_type": "execute_result"
    }
   ],
   "source": [
    "droide.geocode(lat,lon)"
   ]
  },
  {
   "cell_type": "code",
   "execution_count": 137,
   "metadata": {
    "scrolled": true
   },
   "outputs": [
    {
     "data": {
      "text/plain": [
       "Result(id=404, result={u'network': {u'bearing': 0, u'altitude': 1355.0999755859375, u'time': 1520724322334L, u'longitude': -96.9155696, u'provider': u'network', u'latitude': 19.51971, u'speed': 0, u'accuracy': 20}}, error=None)"
      ]
     },
     "execution_count": 137,
     "metadata": {},
     "output_type": "execute_result"
    }
   ],
   "source": [
    "#Obtener la primera recepción\n",
    "droide.readLocation()"
   ]
  },
  {
   "cell_type": "code",
   "execution_count": 150,
   "metadata": {},
   "outputs": [
    {
     "data": {
      "text/plain": [
       "1520724849294L"
      ]
     },
     "execution_count": 150,
     "metadata": {},
     "output_type": "execute_result"
    }
   ],
   "source": [
    "tim"
   ]
  },
  {
   "cell_type": "code",
   "execution_count": 73,
   "metadata": {},
   "outputs": [
    {
     "data": {
      "text/plain": [
       "Result(id=340, result=True, error=None)"
      ]
     },
     "execution_count": 73,
     "metadata": {},
     "output_type": "execute_result"
    }
   ],
   "source": [
    "droide.locationProviderEnabled(\"gps\")"
   ]
  },
  {
   "cell_type": "code",
   "execution_count": 74,
   "metadata": {},
   "outputs": [
    {
     "data": {
      "text/plain": [
       "Result(id=341, result=[u'passive', u'gps', u'network'], error=None)"
      ]
     },
     "execution_count": 74,
     "metadata": {},
     "output_type": "execute_result"
    }
   ],
   "source": [
    "droide.locationProviders()"
   ]
  },
  {
   "cell_type": "code",
   "execution_count": 125,
   "metadata": {},
   "outputs": [],
   "source": [
    "#OBENER EL CLIMA"
   ]
  },
  {
   "cell_type": "code",
   "execution_count": 113,
   "metadata": {},
   "outputs": [],
   "source": [
    "#libreria de url\n",
    "import urllib"
   ]
  },
  {
   "cell_type": "code",
   "execution_count": 130,
   "metadata": {},
   "outputs": [],
   "source": [
    "#obtener con la ip el estado del clima API obtenida de interet\n",
    "url =\"http://samples.openweathermap.org/data/2.5/weather?zip={0},{1}&appid=b6907d289e10d714a6e88b30761fae22\".format(cp,pais)"
   ]
  },
  {
   "cell_type": "code",
   "execution_count": 118,
   "metadata": {},
   "outputs": [],
   "source": [
    "url2 = \"api.openweathermap.org/data/2.5/weather?zip={0},{1}&APPID=dfeea5e604e1948b28652216ad910d11d\".format(cp,pais)"
   ]
  },
  {
   "cell_type": "code",
   "execution_count": 128,
   "metadata": {},
   "outputs": [
    {
     "name": "stdout",
     "output_type": "stream",
     "text": [
      "samples.openweathermap.org/data/2.5/weather?zip=91060,MX&appid=b6907d289e10d714a6e88b30761fae22\n"
     ]
    }
   ],
   "source": [
    "print url"
   ]
  },
  {
   "cell_type": "code",
   "execution_count": 131,
   "metadata": {},
   "outputs": [],
   "source": [
    "import requests\n",
    "r=requests.get(url).json()"
   ]
  },
  {
   "cell_type": "code",
   "execution_count": 132,
   "metadata": {
    "scrolled": true
   },
   "outputs": [
    {
     "data": {
      "text/plain": [
       "{u'base': u'stations',\n",
       " u'clouds': {u'all': 1},\n",
       " u'cod': 200,\n",
       " u'coord': {u'lat': 37.39, u'lon': -122.09},\n",
       " u'dt': 1519061700,\n",
       " u'id': 0,\n",
       " u'main': {u'humidity': 61,\n",
       "  u'pressure': 1017,\n",
       "  u'temp': 280.44,\n",
       "  u'temp_max': 281.15,\n",
       "  u'temp_min': 279.15},\n",
       " u'name': u'Mountain View',\n",
       " u'sys': {u'country': u'US',\n",
       "  u'id': 392,\n",
       "  u'message': 0.0027,\n",
       "  u'sunrise': 1519051894,\n",
       "  u'sunset': 1519091585,\n",
       "  u'type': 1},\n",
       " u'visibility': 12874,\n",
       " u'weather': [{u'description': u'light rain',\n",
       "   u'icon': u'10d',\n",
       "   u'id': 500,\n",
       "   u'main': u'Rain'}],\n",
       " u'wind': {u'deg': 340, u'gust': 11.3, u'speed': 8.2}}"
      ]
     },
     "execution_count": 132,
     "metadata": {},
     "output_type": "execute_result"
    }
   ],
   "source": [
    "r"
   ]
  },
  {
   "cell_type": "code",
   "execution_count": 134,
   "metadata": {},
   "outputs": [],
   "source": [
    "wdesc=r[\"weather\"][0]['description']"
   ]
  },
  {
   "cell_type": "code",
   "execution_count": 135,
   "metadata": {},
   "outputs": [
    {
     "data": {
      "text/plain": [
       "u'light rain'"
      ]
     },
     "execution_count": 135,
     "metadata": {},
     "output_type": "execute_result"
    }
   ],
   "source": [
    "wdesc"
   ]
  },
  {
   "cell_type": "code",
   "execution_count": 110,
   "metadata": {},
   "outputs": [
    {
     "data": {
      "text/plain": [
       "'zip=91060,MX este es u texto'"
      ]
     },
     "execution_count": 110,
     "metadata": {},
     "output_type": "execute_result"
    }
   ],
   "source": [
    "#remplazar un valo en una cadena\n",
    "\"zip={0},{1} este es u texto\".format(cp,pais)\n"
   ]
  },
  {
   "cell_type": "code",
   "execution_count": null,
   "metadata": {},
   "outputs": [],
   "source": [
    "mensaje='En la ciudad de {0}, siendo las {1} horas en la calle de {2}, el estado del tiempo es {3}'.format(,,,,wdesc)"
   ]
  }
 ],
 "metadata": {
  "kernelspec": {
   "display_name": "Python 2",
   "language": "python",
   "name": "python2"
  },
  "language_info": {
   "codemirror_mode": {
    "name": "ipython",
    "version": 2
   },
   "file_extension": ".py",
   "mimetype": "text/x-python",
   "name": "python",
   "nbconvert_exporter": "python",
   "pygments_lexer": "ipython2",
   "version": "2.7.14"
  }
 },
 "nbformat": 4,
 "nbformat_minor": 2
}
