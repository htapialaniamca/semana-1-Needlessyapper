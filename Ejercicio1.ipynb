{
 "cells": [
  {
   "cell_type": "code",
   "execution_count": 3,
   "metadata": {},
   "outputs": [],
   "source": [
    "import sys"
   ]
  },
  {
   "cell_type": "code",
   "execution_count": 4,
   "metadata": {
    "collapsed": true
   },
   "outputs": [
    {
     "data": {
      "text/plain": [
       "['',\n",
       " 'C:\\\\Users\\\\15-ac128la\\\\Anaconda2\\\\python27.zip',\n",
       " 'C:\\\\Users\\\\15-ac128la\\\\Anaconda2\\\\DLLs',\n",
       " 'C:\\\\Users\\\\15-ac128la\\\\Anaconda2\\\\lib',\n",
       " 'C:\\\\Users\\\\15-ac128la\\\\Anaconda2\\\\lib\\\\plat-win',\n",
       " 'C:\\\\Users\\\\15-ac128la\\\\Anaconda2\\\\lib\\\\lib-tk',\n",
       " 'C:\\\\Users\\\\15-ac128la\\\\Anaconda2',\n",
       " 'C:\\\\Users\\\\15-ac128la\\\\Anaconda2\\\\lib\\\\site-packages',\n",
       " 'C:\\\\Users\\\\15-ac128la\\\\Anaconda2\\\\lib\\\\site-packages\\\\win32',\n",
       " 'C:\\\\Users\\\\15-ac128la\\\\Anaconda2\\\\lib\\\\site-packages\\\\win32\\\\lib',\n",
       " 'C:\\\\Users\\\\15-ac128la\\\\Anaconda2\\\\lib\\\\site-packages\\\\Pythonwin',\n",
       " 'C:\\\\Users\\\\15-ac128la\\\\Anaconda2\\\\lib\\\\site-packages\\\\pywinpty-0.5-py2.7-win-amd64.egg',\n",
       " 'C:\\\\Users\\\\15-ac128la\\\\Anaconda2\\\\lib\\\\site-packages\\\\IPython\\\\extensions',\n",
       " 'C:\\\\Users\\\\15-ac128la\\\\.ipython']"
      ]
     },
     "execution_count": 4,
     "metadata": {},
     "output_type": "execute_result"
    }
   ],
   "source": [
    "sys.path"
   ]
  },
  {
   "cell_type": "code",
   "execution_count": 26,
   "metadata": {},
   "outputs": [],
   "source": [
    "#Importar la libreria\n",
    "import android"
   ]
  },
  {
   "cell_type": "code",
   "execution_count": 13,
   "metadata": {},
   "outputs": [],
   "source": [
    "#Crear o mandar a llamarla libreria\n",
    "droide = android.Android()"
   ]
  },
  {
   "cell_type": "code",
   "execution_count": 18,
   "metadata": {},
   "outputs": [
    {
     "data": {
      "text/plain": [
       "Result(id=4, result=None, error=None)"
      ]
     },
     "execution_count": 18,
     "metadata": {},
     "output_type": "execute_result"
    }
   ],
   "source": [
    "#Mostrar mensaje\n",
    "droide.makeToast(\"Un texto cualquiera\")"
   ]
  },
  {
   "cell_type": "code",
   "execution_count": 20,
   "metadata": {},
   "outputs": [
    {
     "data": {
      "text/plain": [
       "Result(id=6, result=None, error=None)"
      ]
     },
     "execution_count": 20,
     "metadata": {},
     "output_type": "execute_result"
    }
   ],
   "source": [
    "#para que el celular vibre\n",
    "droide.vibrate(2000)"
   ]
  },
  {
   "cell_type": "code",
   "execution_count": 24,
   "metadata": {},
   "outputs": [
    {
     "data": {
      "text/plain": [
       "Result(id=9, result=None, error=None)"
      ]
     },
     "execution_count": 24,
     "metadata": {},
     "output_type": "execute_result"
    }
   ],
   "source": [
    "droide.notify(\"hola\",\"Esta es una notificación\")"
   ]
  },
  {
   "cell_type": "code",
   "execution_count": 25,
   "metadata": {},
   "outputs": [
    {
     "data": {
      "text/plain": [
       "Result(id=10, result=None, error=None)"
      ]
     },
     "execution_count": 25,
     "metadata": {},
     "output_type": "execute_result"
    }
   ],
   "source": [
    "droide.ttsSpeak(\"Hola\")"
   ]
  },
  {
   "cell_type": "code",
   "execution_count": null,
   "metadata": {},
   "outputs": [],
   "source": []
  }
 ],
 "metadata": {
  "kernelspec": {
   "display_name": "Python 2",
   "language": "python",
   "name": "python2"
  },
  "language_info": {
   "codemirror_mode": {
    "name": "ipython",
    "version": 2
   },
   "file_extension": ".py",
   "mimetype": "text/x-python",
   "name": "python",
   "nbconvert_exporter": "python",
   "pygments_lexer": "ipython2",
   "version": "2.7.14"
  }
 },
 "nbformat": 4,
 "nbformat_minor": 2
}
